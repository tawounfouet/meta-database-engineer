{
 "cells": [
  {
   "cell_type": "markdown",
   "metadata": {},
   "source": [
    "## C6M2L2 Item 03 – Filtering and sorting data"
   ]
  },
  {
   "cell_type": "markdown",
   "metadata": {},
   "source": [
    "## Prerequisites \n",
    "\n",
    "To complete this exercise, you must have access to the `little_lemon` database. You need to `import MySQL Python/Connector` and, as an authorized user, establish a connection between Python and the MySQL database via connector API using the following code: "
   ]
  },
  {
   "cell_type": "code",
   "execution_count": 12,
   "metadata": {},
   "outputs": [],
   "source": [
    "import mysql.connector as connector"
   ]
  },
  {
   "cell_type": "code",
   "execution_count": 32,
   "metadata": {},
   "outputs": [],
   "source": [
    "# Establish connection b/w Python and MySQL database via connector API\n",
    "connection=connector.connect(\n",
    "                             user=\"admin-meta\", # use your own\n",
    "                             password=\"admin\", # use your own\n",
    "                            )"
   ]
  },
  {
   "cell_type": "markdown",
   "metadata": {},
   "source": [
    "Once, the connection is established, create a `cursor` object to communicate with the entire MySQL database from your python working environment. "
   ]
  },
  {
   "cell_type": "code",
   "execution_count": 33,
   "metadata": {},
   "outputs": [],
   "source": [
    "# Create cursor object to communicate with entire MySQL database\n",
    "cursor = connection.cursor()"
   ]
  },
  {
   "cell_type": "markdown",
   "metadata": {},
   "source": [
    "Now, you can select the database `little_lemon` using the code below and work with the respective tables to accomplish the required tasks.  "
   ]
  },
  {
   "cell_type": "code",
   "execution_count": 34,
   "metadata": {},
   "outputs": [
    {
     "data": {
      "text/plain": [
       "'little_lemon'"
      ]
     },
     "execution_count": 34,
     "metadata": {},
     "output_type": "execute_result"
    }
   ],
   "source": [
    "# Set little_lemon for use \n",
    "cursor.execute(\"use little_lemon\")\n",
    "\n",
    "# Confirm the database in use\n",
    "connection.database"
   ]
  },
  {
   "cell_type": "code",
   "execution_count": 35,
   "metadata": {},
   "outputs": [
    {
     "name": "stdout",
     "output_type": "stream",
     "text": [
      "Database is use is: little_lemon\n",
      "\n",
      "The existing tables in the little_lemon database are:\n",
      "('Bookings',)\n",
      "('MenuItems',)\n",
      "('Menus',)\n",
      "('Orders',)\n"
     ]
    }
   ],
   "source": [
    "# Setting little_lemon for use \n",
    "cursor.execute(\"use little_lemon\")\n",
    "\n",
    "# Confirming\n",
    "print(\"Database is use is:\", connection.database)\n",
    "print()\n",
    "print(\"The existing tables in the little_lemon database are:\")\n",
    "cursor.execute(\"SHOW TABLES\") \n",
    "# Print table names \n",
    "for table in cursor: \n",
    "    print(table) "
   ]
  },
  {
   "cell_type": "code",
   "execution_count": null,
   "metadata": {},
   "outputs": [],
   "source": []
  },
  {
   "cell_type": "markdown",
   "metadata": {},
   "source": [
    "## Scenario \n",
    "\n",
    "Little Lemon need to filter and sort the data in their MySQL database using Python to complete the following tasks: \n",
    "\n",
    "* Determine which waiter is serving which guest \n",
    "* Identify all guests who paid a bill amount above a certain threshold \n",
    "* And list all starters above a certain price and order with the price. \n",
    "\n",
    "Help Little Lemon extract this data from their database using filtering and sorting techniques. "
   ]
  },
  {
   "cell_type": "code",
   "execution_count": 37,
   "metadata": {},
   "outputs": [
    {
     "name": "stdout",
     "output_type": "stream",
     "text": [
      "Data in the \"Bookings\" table:\n",
      "('BookingID', 'TableNo', 'GuestFirstName', 'GuestLastName', 'BookingSlot', 'EmployeeID')\n",
      "(1, 12, 'Anna', 'Iversen', datetime.timedelta(seconds=68400), 1)\n",
      "(2, 11, 'Joakim', 'Iversen', datetime.timedelta(seconds=68400), 6)\n",
      "(3, 19, 'Vanessa', 'McCarthy', datetime.timedelta(seconds=54000), 3)\n",
      "(4, 15, 'Marcos', 'Romero', datetime.timedelta(seconds=63000), 4)\n",
      "(5, 5, 'Hiroki', 'Yamane', datetime.timedelta(seconds=66600), 2)\n",
      "(6, 10, 'Diana', 'Pinto', datetime.timedelta(seconds=72000), 5)\n"
     ]
    }
   ],
   "source": [
    "# Read query is:\n",
    "\n",
    "#all_bookings = \"\"\"SELECT GuestFirstName, GuestLastName, TableNo FROM bookings;\"\"\"\n",
    "\n",
    "all_bookings = \"\"\"SELECT * FROM bookings;\"\"\"\n",
    "\n",
    "# Eexecute query \n",
    "cursor.execute(all_bookings)\n",
    "\n",
    "# Fetch all results that satisfy the query \n",
    "results = cursor.fetchall()\n",
    "\n",
    "# Retrieve column names\n",
    "cols = cursor.column_names\n",
    "\n",
    "# Print column names and records from results using for loop\n",
    "print(\"\"\"Data in the \"Bookings\" table:\"\"\")\n",
    "print(cols)\n",
    "for result in results:\n",
    "    print(result)"
   ]
  },
  {
   "cell_type": "markdown",
   "metadata": {},
   "source": [
    "## Task 1: \n",
    "\n",
    "Little Lemon need to know how many bookings they have today for table number 12. They also need to know the names of the guests booked for table 12 and who their servers are. \n",
    "\n",
    "Help Little Lemon to complete this task by filtering the records for table 12 from the Bookings table. Show the required records for the following columns in the output: \n",
    "\n",
    "* `TableNo`, \n",
    "* `GuestFirstName`\n",
    "* `GuestLastName`\n",
    "* `EmployeeID`"
   ]
  },
  {
   "cell_type": "markdown",
   "metadata": {},
   "source": [
    "**Exercises**"
   ]
  },
  {
   "cell_type": "code",
   "execution_count": 38,
   "metadata": {},
   "outputs": [
    {
     "name": "stdout",
     "output_type": "stream",
     "text": [
      "('TableNo', 'GuestFirstName', 'GuestLastName', 'EmployeeID')\n",
      "(12, 'Anna', 'Iversen', 1)\n"
     ]
    }
   ],
   "source": [
    "# Task 1\n",
    "# The SQL query is:\n",
    "filtering_and_sorting = \"\"\"SELECT TableNo, \n",
    "GuestFirstName, GuestLastName, EmployeeID  \n",
    "FROM Bookings \n",
    "WHERE TableNo= 12;\"\"\"\n",
    "\n",
    "# Execute query\n",
    "cursor.execute(filtering_and_sorting)\n",
    "\n",
    "# Fetch records \n",
    "results = cursor.fetchall()\n",
    "\n",
    "# Retrieve column names\n",
    "columns = cursor.column_names\n",
    "\n",
    "# Print column names\n",
    "print(columns)\n",
    "\n",
    "# Print query results\n",
    "for result in results:\n",
    "    print(result)"
   ]
  },
  {
   "cell_type": "markdown",
   "metadata": {},
   "source": [
    "## Task 2: \n",
    "\n",
    "Little lemon wants to send a coupon to all guests who spent more than $40 at the restaurant today.  \n",
    "\n",
    "Help little lemon to filter and sort the records of all quests who qualify for coupon.   \n",
    "\n",
    "\n",
    "**TIP:** Target the `BookingID` and `BillAmount` columns in the `Orders` table. Sort the data based on `BillAmount` in `DESC`. \n",
    "\n",
    "Use a fetch module on the cursor or set the limit in your SQL query. "
   ]
  },
  {
   "cell_type": "code",
   "execution_count": 39,
   "metadata": {},
   "outputs": [
    {
     "name": "stdout",
     "output_type": "stream",
     "text": [
      "Data in the \"Orders\" table:\n",
      "\n",
      "('OrderID', 'TableNo', 'MenuID', 'BookingID', 'BillAmount', 'Quantity')\n",
      "(1, 12, 1, 1, 86, 2)\n",
      "(2, 19, 2, 2, 37, 1)\n",
      "(3, 15, 2, 3, 37, 1)\n",
      "(4, 5, 3, 4, 40, 1)\n",
      "(5, 8, 1, 5, 43, 1)\n"
     ]
    }
   ],
   "source": [
    "all_orders = \"\"\"SELECT * FROM Orders;\"\"\"\n",
    "\n",
    "# Eexecute query \n",
    "cursor.execute(all_orders)\n",
    "\n",
    "# Fetch all results that satisfy the query \n",
    "results = cursor.fetchall()\n",
    "\n",
    "# Retrieve column names\n",
    "cols = cursor.column_names\n",
    "\n",
    "# Print column names and records from results using for loop\n",
    "print(\"\"\"Data in the \"Orders\" table:\\n\"\"\")\n",
    "print(cols)\n",
    "for result in results:\n",
    "    print(result)"
   ]
  },
  {
   "cell_type": "code",
   "execution_count": 40,
   "metadata": {},
   "outputs": [
    {
     "name": "stdout",
     "output_type": "stream",
     "text": [
      "('BookingID', 'BillAmount')\n",
      "(1, 86)\n",
      "(5, 43)\n"
     ]
    }
   ],
   "source": [
    "# Task 2 option 1\n",
    "# Resetting cursor\n",
    "#cursor.fetchall()\n",
    "\n",
    "# The SQL query is:\n",
    "filtering_and_sorting = \"\"\"SELECT BookingID, BillAmount\n",
    "FROM\n",
    "Orders ORDER BY BillAmount DESC;\"\"\"\n",
    "\n",
    "# Execute query\n",
    "cursor.execute(filtering_and_sorting)\n",
    "\n",
    "# Fetch records \n",
    "results = cursor.fetchmany(size=2)#fetchall()\n",
    "\n",
    "# Retrieve column names\n",
    "columns = cursor.column_names\n",
    "\n",
    "# Print column names\n",
    "print(columns)\n",
    "\n",
    "# Print query results\n",
    "for result in results:\n",
    "    print(result)"
   ]
  },
  {
   "cell_type": "code",
   "execution_count": 46,
   "metadata": {},
   "outputs": [
    {
     "name": "stdout",
     "output_type": "stream",
     "text": [
      "('BookingID', 'BillAmount')\n",
      "(1, 86)\n",
      "(5, 43)\n"
     ]
    }
   ],
   "source": [
    "# Resetting cursor\n",
    "cursor.fetchall()\n",
    "\n",
    "# Task 2 Option 2\n",
    "\n",
    "# The SQL query is:\n",
    "filtering_and_sorting = \"\"\"SELECT BookingID, BillAmount\n",
    "FROM\n",
    "Orders ORDER BY BillAmount DESC LIMIT 2;\"\"\"\n",
    "\n",
    "# Execute query\n",
    "cursor.execute(filtering_and_sorting)\n",
    "\n",
    "# Fetch records \n",
    "results = cursor.fetchall()\n",
    "\n",
    "# Retrieve column names\n",
    "columns = cursor.column_names\n",
    "\n",
    "# Print column names\n",
    "print(columns)\n",
    "\n",
    "# Print query results\n",
    "for result in results:\n",
    "    print(result)"
   ]
  },
  {
   "cell_type": "markdown",
   "metadata": {},
   "source": [
    "## Task 3: \n",
    "\n",
    "Little lemon needs to determine what the most and least expensive starters and desserts on their menu items are. \n",
    "\n",
    "Help them out by filtering the menu items and sorting them by price using python.  \n",
    "\n",
    "**TIP:** Filter the records based on the `Type` column in the `MenuItems` table. Sort the records by `Price` column in `DESC` order. "
   ]
  },
  {
   "cell_type": "code",
   "execution_count": 80,
   "metadata": {},
   "outputs": [
    {
     "name": "stdout",
     "output_type": "stream",
     "text": [
      "Data in the \"Menu Items\" table:\n",
      "\n",
      "ItemID     Name             Type                    Price\n",
      "1          Olives           Starters                5\n",
      "2          Flatbread           Starters                5\n",
      "3          Minestrone           Starters                8\n",
      "4          Tomato bread           Starters                8\n",
      "5          Falafel           Starters                7\n",
      "6          Hummus           Starters                5\n",
      "7          Greek salad           Main Courses                15\n",
      "8          Bean soup           Main Courses                12\n",
      "9          Pizza           Main Courses                15\n",
      "10          Greek yoghurt           Desserts                7\n",
      "11          Ice cream           Desserts                6\n",
      "12          Cheesecake           Desserts                4\n",
      "13          Athens White wine           Drinks                25\n",
      "14          Corfu Red Wine           Drinks                30\n",
      "15          Turkish Coffee           Drinks                10\n",
      "16          Turkish Coffee           Drinks                10\n",
      "17          Kabasa           Main Courses                17\n"
     ]
    }
   ],
   "source": [
    "all_menuItems = \"\"\"SELECT * FROM MenuItems;\"\"\"\n",
    "\n",
    "# Eexecute query \n",
    "cursor.execute(all_menuItems)\n",
    "\n",
    "# Fetch all results that satisfy the query \n",
    "results = cursor.fetchall()\n",
    "\n",
    "# Retrieve column names\n",
    "cols = cursor.column_names\n",
    "\n",
    "# Print column names and records from results using for loop\n",
    "print(\"\"\"Data in the \"Menu Items\" table:\\n\"\"\")\n",
    "print(f\"{cols[0]}     {cols[1]}             {cols[2]}                    {cols[3]}\")\n",
    "for result in results:\n",
    "    print(f\"{result[0]}          {result[1]}           {result[2]}                {result[3]}\")"
   ]
  },
  {
   "cell_type": "code",
   "execution_count": 83,
   "metadata": {},
   "outputs": [
    {
     "name": "stdout",
     "output_type": "stream",
     "text": [
      "Data in the \"Menu Items\" table:\n",
      "\n",
      "ItemID     Name             Type                    Price\n",
      "3          Minestrone           Starters                8\n",
      "4          Tomato bread           Starters                8\n",
      "5          Falafel           Starters                7\n",
      "10          Greek yoghurt           Desserts                7\n",
      "11          Ice cream           Desserts                6\n",
      "1          Olives           Starters                5\n",
      "2          Flatbread           Starters                5\n",
      "6          Hummus           Starters                5\n",
      "12          Cheesecake           Desserts                4\n"
     ]
    }
   ],
   "source": [
    "# Task 3\n",
    "\n",
    "# The SQL query is:\n",
    "filtering_and_sorting = \"\"\"SELECT * \n",
    "FROM MenuItems \n",
    "WHERE (Type = 'Starters' OR Type = 'Desserts')\n",
    "ORDER BY Price DESC;\"\"\"\n",
    "\n",
    "# Execute query\n",
    "cursor.execute(filtering_and_sorting)\n",
    "\n",
    "# Fetch records \n",
    "results = cursor.fetchall()\n",
    "\n",
    "# Retrieve column names\n",
    "columns = cursor.column_names\n",
    "\n",
    "# Print column names and records \n",
    "print(\"\"\"Data in the \"Menu Items\" table:\\n\"\"\")\n",
    "print(f\"{cols[0]}     {cols[1]}             {cols[2]}                    {cols[3]}\")\n",
    "for result in results:\n",
    "    print(f\"{result[0]}          {result[1]}           {result[2]}                {result[3]}\")"
   ]
  },
  {
   "cell_type": "code",
   "execution_count": 84,
   "metadata": {},
   "outputs": [
    {
     "name": "stdout",
     "output_type": "stream",
     "text": [
      "The cursor is closed.\n",
      "MySQL connection is closed.\n"
     ]
    }
   ],
   "source": [
    "# Let's close the cursor and the connection\n",
    "if connection.is_connected():\n",
    "    cursor.close()\n",
    "    print(\"The cursor is closed.\")\n",
    "    connection.close()\n",
    "    print(\"MySQL connection is closed.\")\n",
    "else:\n",
    "    print(\"Connection is already closed\")"
   ]
  },
  {
   "cell_type": "code",
   "execution_count": null,
   "metadata": {},
   "outputs": [],
   "source": []
  }
 ],
 "metadata": {
  "interpreter": {
   "hash": "31f2aee4e71d21fbe5cf8b01ff0e069b9275f58929596ceb00d14d90e3e16cd6"
  },
  "kernelspec": {
   "display_name": "Python 3 (ipykernel)",
   "language": "python",
   "name": "python3"
  },
  "language_info": {
   "codemirror_mode": {
    "name": "ipython",
    "version": 3
   },
   "file_extension": ".py",
   "mimetype": "text/x-python",
   "name": "python",
   "nbconvert_exporter": "python",
   "pygments_lexer": "ipython3",
   "version": "3.8.0"
  }
 },
 "nbformat": 4,
 "nbformat_minor": 4
}
