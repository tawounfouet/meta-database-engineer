{
 "cells": [
  {
   "cell_type": "markdown",
   "metadata": {},
   "source": [
    "## C6M2L2 Item 07 – Performing different JOIN operations in MySQL database using python"
   ]
  },
  {
   "cell_type": "markdown",
   "metadata": {},
   "source": [
    "## Prerequisites \n",
    "\n",
    "To complete this exercise, you must have access to the `little_lemon` database. You need to import MySQL Python/Connector and, as an authorized user, establish a connection between Python and the MySQL database via connector API using the following code: "
   ]
  },
  {
   "cell_type": "code",
   "execution_count": 1,
   "metadata": {},
   "outputs": [],
   "source": [
    "import mysql.connector as connector"
   ]
  },
  {
   "cell_type": "code",
   "execution_count": 81,
   "metadata": {},
   "outputs": [],
   "source": [
    "# Establish connection b/w Python and MySQL database via connector API\n",
    "connection=connector.connect(\n",
    "                             user=\"admin-meta\", # use your own\n",
    "                             password=\"admin\", # use your own\n",
    "                            )"
   ]
  },
  {
   "cell_type": "markdown",
   "metadata": {},
   "source": [
    "Once, the connection is established, create a `cursor` object to communicate with the entire MySQL database from your python working environment. "
   ]
  },
  {
   "cell_type": "code",
   "execution_count": 82,
   "metadata": {},
   "outputs": [],
   "source": [
    "# Create cursor object to communicate with entire MySQL database\n",
    "cursor = connection.cursor()"
   ]
  },
  {
   "cell_type": "markdown",
   "metadata": {},
   "source": [
    "Now, you can select the database `little_lemon` using the code below and work with the respective tables to accomplish the required tasks. "
   ]
  },
  {
   "cell_type": "code",
   "execution_count": 83,
   "metadata": {},
   "outputs": [
    {
     "data": {
      "text/plain": [
       "'little_lemon'"
      ]
     },
     "execution_count": 83,
     "metadata": {},
     "output_type": "execute_result"
    }
   ],
   "source": [
    "# Set little_lemon database for use \n",
    "cursor.execute(\"use little_lemon\")\n",
    "\n",
    "# Confirm the database in use\n",
    "connection.database"
   ]
  },
  {
   "cell_type": "markdown",
   "metadata": {},
   "source": [
    "## Scenario \n",
    "\n",
    "Little Lemon needs to carry out the following tasks with their datasets: \n",
    "\n",
    "* Determine the final bill amount for each customer who attended the restaurant today \n",
    "* Identify the type of cuisine that each item in their menu belongs to. \n",
    "\n",
    "Help Little Lemon to complete these tasks using “JOIN” operations on the restaurant’s MySQL database using Python. "
   ]
  },
  {
   "cell_type": "markdown",
   "metadata": {},
   "source": [
    "## Task 1:\n",
    "\n",
    "Little Lemon need the following information for each of the items in their menu: \n",
    "\n",
    "* The name of each item in the menu, \n",
    "* Each menu item’s type, \n",
    "* Each menu item’s cuisine, \n",
    "* and the price of each item in the menu. \n",
    "\n",
    "Help Little Lemon to extract this data from their database using Python. \n",
    "\n",
    "**TIP:** You need to combine records from the `MenuItems` and `Menu` tables using the `JOIN` operation and show only the requested columns in the output. "
   ]
  },
  {
   "cell_type": "code",
   "execution_count": 84,
   "metadata": {},
   "outputs": [
    {
     "name": "stdout",
     "output_type": "stream",
     "text": [
      "Data in the \"Menu Items\" table:\n",
      "\n",
      "ItemID     Name             Type                    Price\n",
      "------------------------------------------------------------\n",
      "1          Olives           Starters                5\n",
      "2          Flatbread           Starters                5\n",
      "3          Minestrone           Starters                8\n",
      "4          Tomato bread           Starters                8\n",
      "5          Falafel           Starters                7\n",
      "6          Hummus           Starters                5\n",
      "7          Greek salad           Main Courses                15\n",
      "8          Bean soup           Main Courses                12\n",
      "9          Pizza           Main Courses                15\n",
      "10          Greek yoghurt           Desserts                7\n",
      "11          Ice cream           Desserts                6\n",
      "12          Cheesecake           Desserts                4\n",
      "13          Athens White wine           Drinks                25\n",
      "14          Corfu Red Wine           Drinks                30\n",
      "15          Turkish Coffee           Drinks                10\n",
      "16          Turkish Coffee           Drinks                10\n",
      "17          Kabasa           Main Courses                17\n"
     ]
    }
   ],
   "source": [
    "all_menuItems = \"\"\"SELECT * FROM MenuItems;\"\"\"\n",
    "\n",
    "# Eexecute query \n",
    "cursor.execute(all_menuItems)\n",
    "\n",
    "# Fetch all results that satisfy the query \n",
    "results = cursor.fetchall()\n",
    "\n",
    "# Retrieve column names\n",
    "cols = cursor.column_names\n",
    "\n",
    "# Print column names and records from results using for loop\n",
    "print(\"\"\"Data in the \"Menu Items\" table:\\n\"\"\")\n",
    "print(f\"{cols[0]}     {cols[1]}             {cols[2]}                    {cols[3]}\")\n",
    "print(\"-\"*60) \n",
    "for result in results:\n",
    "    print(f\"{result[0]}          {result[1]}           {result[2]}                {result[3]}\")"
   ]
  },
  {
   "cell_type": "code",
   "execution_count": 85,
   "metadata": {},
   "outputs": [
    {
     "name": "stdout",
     "output_type": "stream",
     "text": [
      "Data in the \"Menus\" table:\n",
      "\n",
      "MenuID     ItemID    Cuisine \n",
      "------------------------------\n",
      "2          3         Italian\n",
      "2          9         Italian\n",
      "2          12         Italian\n",
      "2          15         Italian\n",
      "3          5         Turkish\n",
      "3          11         Turkish\n",
      "3          16         Turkish\n",
      "3          17         Turkish\n"
     ]
    }
   ],
   "source": [
    "all_orders = \"\"\"SELECT * FROM Menus;\"\"\"\n",
    "\n",
    "# Eexecute query \n",
    "cursor.execute(all_orders)\n",
    "\n",
    "# Fetch all results that satisfy the query \n",
    "results = cursor.fetchall()\n",
    "\n",
    "# Retrieve column names\n",
    "cols = cursor.column_names\n",
    "\n",
    "# Print column names and records from results using for loop\n",
    "print(\"\"\"Data in the \"Menus\" table:\\n\"\"\")\n",
    "print(f\"{cols[0]}     {cols[1]}    {cols[2]} \")\n",
    "print(\"-\"*30) \n",
    "for result in results:\n",
    "     print(f\"{result[0]}          {result[1]}         {result[2]}\")"
   ]
  },
  {
   "cell_type": "code",
   "execution_count": 99,
   "metadata": {},
   "outputs": [
    {
     "name": "stdout",
     "output_type": "stream",
     "text": [
      "INNER JOIN Query On ItemID  \n",
      "\n",
      "SELECT \n",
      "MenuItems.Name AS Item_Name, \n",
      "MenuItems.Type AS Item_Type, \n",
      "Menus.Cuisine AS Cuisine, \n",
      "MenuItems.Price AS Price \n",
      "FROM MenuItems \n",
      "INNER JOIN Menus ON MenuItems.ItemID=Menus.ItemID;\n",
      "\n",
      "Result from Inner Join Query on ItemID :\n",
      "\n",
      "Item_Name        Item_Type           Cuisine                   Price\n",
      "----------------------------------------------------------------------\n",
      "Minestrone            Starters           Italian                8\n",
      "Pizza            Main Courses           Italian                15\n",
      "Cheesecake            Desserts           Italian                4\n",
      "Turkish Coffee            Drinks           Italian                10\n",
      "Falafel            Starters           Turkish                7\n",
      "Ice cream            Desserts           Turkish                6\n",
      "Turkish Coffee            Drinks           Turkish                10\n",
      "Kabasa            Main Courses           Turkish                17\n"
     ]
    }
   ],
   "source": [
    "# Task 1\n",
    "\n",
    "# The SQL query is:\n",
    "join_query=\"\"\"SELECT \n",
    "MenuItems.Name AS Item_Name, \n",
    "MenuItems.Type AS Item_Type, \n",
    "Menus.Cuisine AS Cuisine, \n",
    "MenuItems.Price AS Price \n",
    "FROM MenuItems \n",
    "INNER JOIN Menus ON MenuItems.ItemID=Menus.ItemID;\"\"\"\n",
    "\n",
    "# Execute query\n",
    "cursor.execute(join_query)\n",
    "\n",
    "# Fetch records \n",
    "results = cursor.fetchall()\n",
    "\n",
    "# Retrieve column names\n",
    "cols = cursor.column_names\n",
    "\n",
    "# Print column names\n",
    "print(f\"INNER JOIN Query On ItemID  \\n\")\n",
    "print(f\"{join_query}\\n\")\n",
    "\n",
    "# Print query results\n",
    "# Print column names and records from results using for loop\n",
    "print(\"\"\"Result from Inner Join Query on ItemID :\\n\"\"\")\n",
    "print(f\"{cols[0]}        {cols[1]}           {cols[2]}                   {cols[3]}\")\n",
    "print(\"-\"*70) \n",
    "for result in results:\n",
    "    print(f\"{result[0]}            {result[1]}           {result[2]}                {result[3]}\") "
   ]
  },
  {
   "cell_type": "markdown",
   "metadata": {},
   "source": [
    "## Task 2:\n",
    "\n",
    "Little Lemon notice that there are several menu items missing from the output of the previous task. \n",
    "\n",
    "Help Little Lemon to identify these missing items by using a `JOIN` operation in Python to return data for the missing records. \n",
    "\n",
    "**TIP:** Use a `JOIN` operation to return the missing data by joining the `MenuItems` and Menu tables. "
   ]
  },
  {
   "cell_type": "code",
   "execution_count": 111,
   "metadata": {},
   "outputs": [
    {
     "name": "stdout",
     "output_type": "stream",
     "text": [
      "INNER JOIN Query On ItemID  Where Cuisine is NULL \n",
      "\n",
      "SELECT \n",
      "MenuItems.Name AS Item_Name, \n",
      "MenuItems.Type AS Item_Type, \n",
      "Menus.Cuisine AS Cuisine, \n",
      "MenuItems.Price AS Price \n",
      "FROM MenuItems \n",
      "LEFT JOIN Menus ON MenuItems.ItemID=Menus.ItemID\n",
      "WHERE Cuisine IS NULL;\n",
      "\n",
      "Item_Name        Item_Type        Cuisine              Price\n",
      "----------------------------------------------------------------------\n",
      "Olives          Starters           None                5\n",
      "Flatbread          Starters           None                5\n",
      "Tomato bread          Starters           None                8\n",
      "Hummus          Starters           None                5\n",
      "Greek salad          Main Courses           None                15\n",
      "Bean soup          Main Courses           None                12\n",
      "Greek yoghurt          Desserts           None                7\n",
      "Athens White wine          Drinks           None                25\n",
      "Corfu Red Wine          Drinks           None                30\n"
     ]
    }
   ],
   "source": [
    "# Task 2\n",
    "# Good to specify column from the table\n",
    "# Try left, right, inner\n",
    "\n",
    "# The SQL query is:\n",
    "join_query=\"\"\"SELECT \n",
    "MenuItems.Name AS Item_Name, \n",
    "MenuItems.Type AS Item_Type, \n",
    "Menus.Cuisine AS Cuisine, \n",
    "MenuItems.Price AS Price \n",
    "FROM MenuItems \n",
    "LEFT JOIN Menus ON MenuItems.ItemID=Menus.ItemID\n",
    "WHERE Cuisine IS NULL;\"\"\"\n",
    "\n",
    "# Execute query\n",
    "cursor.execute(join_query)\n",
    "\n",
    "# Fetch records \n",
    "results = cursor.fetchall()\n",
    "\n",
    "# Retrieve column names\n",
    "cols = cursor.column_names\n",
    "\n",
    "# Print column names\n",
    "#print(cols)\n",
    "\n",
    "print(f\"INNER JOIN Query On ItemID  Where Cuisine is NULL \\n\")\n",
    "print(f\"{join_query}\\n\")\n",
    "\n",
    "\n",
    "# Print query results\n",
    "print(f\"{cols[0]}        {cols[1]}        {cols[2]}              {cols[3]}\")\n",
    "print(\"-\"*70) \n",
    "for result in results:\n",
    "    print(f\"{result[0]}          {result[1]}           {result[2]}                {result[3]}\")  "
   ]
  },
  {
   "cell_type": "markdown",
   "metadata": {},
   "source": [
    "## Task 3:\n",
    "\n",
    "Little Lemon restaurant need you to help them retrieve the following information from the `Bookings` and the `Orders` tables in their MySQL database using Python: \n",
    "\n",
    "* Booking ID \n",
    "* Table number \n",
    "* Guest first name \n",
    "* Server ID \n",
    "* Bill amount  \n",
    "\n",
    "**TIP:** Combine the records from the `Bookings` and the `Orders` tables using a `JOIN` operation. The requested column `ServerID` is the `EmployeeID` column in the `Booking` table. Create an alias for this purpose.  "
   ]
  },
  {
   "cell_type": "code",
   "execution_count": 112,
   "metadata": {},
   "outputs": [
    {
     "name": "stdout",
     "output_type": "stream",
     "text": [
      "Data in the \"Bookings\" table:\n",
      "('BookingID', 'TableNo', 'GuestFirstName', 'GuestLastName', 'BookingSlot', 'EmployeeID')\n",
      "(1, 12, 'Anna', 'Iversen', datetime.timedelta(seconds=68400), 1)\n",
      "(2, 11, 'Joakim', 'Iversen', datetime.timedelta(seconds=68400), 6)\n",
      "(3, 19, 'Vanessa', 'McCarthy', datetime.timedelta(seconds=54000), 3)\n",
      "(4, 15, 'Marcos', 'Romero', datetime.timedelta(seconds=63000), 4)\n",
      "(5, 5, 'Hiroki', 'Yamane', datetime.timedelta(seconds=66600), 2)\n",
      "(6, 10, 'Diana', 'Pinto', datetime.timedelta(seconds=72000), 5)\n"
     ]
    }
   ],
   "source": [
    "all_bookings = \"\"\"SELECT * FROM bookings;\"\"\"\n",
    "\n",
    "# Eexecute query \n",
    "cursor.execute(all_bookings)\n",
    "\n",
    "# Fetch all results that satisfy the query \n",
    "results = cursor.fetchall()\n",
    "\n",
    "# Retrieve column names\n",
    "cols = cursor.column_names\n",
    "\n",
    "# Print column names and records from results using for loop\n",
    "print(\"\"\"Data in the \"Bookings\" table:\"\"\")\n",
    "print(cols)\n",
    "for result in results:\n",
    "    print(result)"
   ]
  },
  {
   "cell_type": "code",
   "execution_count": 109,
   "metadata": {},
   "outputs": [
    {
     "name": "stdout",
     "output_type": "stream",
     "text": [
      "BookingID  TableNo      GuestFirstName    ServerID       BillAmount\n",
      "----------------------------------------------------------------------\n",
      "1            12          Anna             1                    86\n",
      "2            11          Joakim             6                    37\n",
      "3            19          Vanessa             3                    37\n",
      "4            15          Marcos             4                    40\n",
      "5            5          Hiroki             2                    43\n",
      "6            10          Diana             5                    None\n"
     ]
    }
   ],
   "source": [
    "# Task 3\n",
    "\n",
    "# The SQL query is:\n",
    "join_query=\"\"\"SELECT \n",
    "Bookings.BookingID,\n",
    "Bookings.TableNo,\n",
    "Bookings.GuestFirstName,\n",
    "Bookings.EmployeeID AS ServerID,\n",
    "Orders.BillAmount\n",
    "FROM Bookings\n",
    "LEFT JOIN Orders ON Bookings.BookingID = Orders.BookingID;\n",
    "\"\"\"\n",
    "\n",
    "# Execute query\n",
    "cursor.execute(join_query)\n",
    "\n",
    "# Fetch records \n",
    "results = cursor.fetchall()\n",
    "\n",
    "# Retrieve column names\n",
    "cols = cursor.column_names\n",
    "\n",
    "# Print column names\n",
    "#print(columns)\n",
    "\n",
    "# Print query results\n",
    "print(f\"{cols[0]}  {cols[1]}      {cols[2]}    {cols[3]}       {cols[4]}\")\n",
    "print(\"-\"*70) \n",
    "for result in results:\n",
    "    print(f\"{result[0]}            {result[1]}          {result[2]}             {result[3]}                    {result[4]}\") "
   ]
  },
  {
   "cell_type": "code",
   "execution_count": 65,
   "metadata": {},
   "outputs": [
    {
     "name": "stdout",
     "output_type": "stream",
     "text": [
      "The cursor is closed.\n",
      "MySQL connection is closed.\n"
     ]
    }
   ],
   "source": [
    "# Let's close the cursor and the connection\n",
    "if connection.is_connected():\n",
    "    cursor.close()\n",
    "    print(\"The cursor is closed.\")\n",
    "    connection.close()\n",
    "    print(\"MySQL connection is closed.\")\n",
    "else:\n",
    "    print(\"Connection is already closed\")"
   ]
  },
  {
   "cell_type": "code",
   "execution_count": null,
   "metadata": {},
   "outputs": [],
   "source": []
  }
 ],
 "metadata": {
  "kernelspec": {
   "display_name": "Python 3 (ipykernel)",
   "language": "python",
   "name": "python3"
  },
  "language_info": {
   "codemirror_mode": {
    "name": "ipython",
    "version": 3
   },
   "file_extension": ".py",
   "mimetype": "text/x-python",
   "name": "python",
   "nbconvert_exporter": "python",
   "pygments_lexer": "ipython3",
   "version": "3.8.0"
  }
 },
 "nbformat": 4,
 "nbformat_minor": 4
}
