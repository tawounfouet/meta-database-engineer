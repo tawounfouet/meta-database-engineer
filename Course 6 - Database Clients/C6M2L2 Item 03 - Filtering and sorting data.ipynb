{
 "cells": [
  {
   "cell_type": "markdown",
   "source": [
    "## C6M2L2 Item 03 – Filtering and sorting data"
   ],
   "metadata": {}
  },
  {
   "cell_type": "markdown",
   "source": [
    "## Prerequisites \n",
    "\n",
    "To complete this exercise, you must have access to the `little_lemon` database. You need to `import MySQL Python/Connector` and, as an authorized user, establish a connection between Python and the MySQL database via connector API using the following code: "
   ],
   "metadata": {}
  },
  {
   "cell_type": "code",
   "execution_count": null,
   "source": [
    "import mysql.connector as connector"
   ],
   "outputs": [],
   "metadata": {}
  },
  {
   "cell_type": "code",
   "execution_count": null,
   "source": [
    "# Establish connection b/w Python and MySQL database via connector API\n",
    "connection=connector.connect(\n",
    "                             user=\"root\", # use your own\n",
    "                             password=\"\", # use your own\n",
    "                            )"
   ],
   "outputs": [],
   "metadata": {}
  },
  {
   "cell_type": "markdown",
   "source": [
    "Once, the connection is established, create a `cursor` object to communicate with the entire MySQL database from your python working environment. "
   ],
   "metadata": {}
  },
  {
   "cell_type": "code",
   "execution_count": null,
   "source": [
    "# Create cursor object to communicate with entire MySQL database\n",
    "cursor = connection.cursor()"
   ],
   "outputs": [],
   "metadata": {}
  },
  {
   "cell_type": "markdown",
   "source": [
    "Now, you can select the database `little_lemon` using the code below and work with the respective tables to accomplish the required tasks.  "
   ],
   "metadata": {}
  },
  {
   "cell_type": "code",
   "execution_count": null,
   "source": [
    "# Set little_lemon for use \n",
    "cursor.execute(\"use little_lemon\")\n",
    "\n",
    "# Confirm the database in use\n",
    "connection.database"
   ],
   "outputs": [],
   "metadata": {}
  },
  {
   "cell_type": "markdown",
   "source": [
    "## Scenario \n",
    "\n",
    "Little Lemon need to filter and sort the data in their MySQL database using Python to complete the following tasks: \n",
    "\n",
    "* Determine which waiter is serving which guest \n",
    "* Identify all guests who paid a bill amount above a certain threshold \n",
    "* And list all starters above a certain price and order with the price. \n",
    "\n",
    "Help Little Lemon extract this data from their database using filtering and sorting techniques. "
   ],
   "metadata": {}
  },
  {
   "cell_type": "markdown",
   "source": [
    "## Task 1: \n",
    "\n",
    "Little Lemon need to know how many bookings they have today for table number 12. They also need to know the names of the guests booked for table 12 and who their servers are. \n",
    "\n",
    "Help Little Lemon to complete this task by filtering the records for table 12 from the Bookings table. Show the required records for the following columns in the output: \n",
    "\n",
    "* `TableNo`, \n",
    "* `GuestFirstName`\n",
    "* `GuestLastName`\n",
    "* `EmployeeID`"
   ],
   "metadata": {}
  },
  {
   "cell_type": "markdown",
   "source": [
    "**Exercises**"
   ],
   "metadata": {}
  },
  {
   "cell_type": "code",
   "execution_count": null,
   "source": [
    "# Task 1\n",
    "# The SQL query is:\n",
    "filtering_and_sorting = \"\"\"SELECT TableNo, \n",
    "GuestFirstName, GuestLastName, EmployeeID  \n",
    "FROM Bookings \n",
    "WHERE TableNo= 12;\"\"\"\n",
    "\n",
    "# Execute query\n",
    "cursor.execute(filtering_and_sorting)\n",
    "\n",
    "# Fetch records \n",
    "results = cursor.fetchall()\n",
    "\n",
    "# Retrieve column names\n",
    "columns = cursor.column_names\n",
    "\n",
    "# Print column names\n",
    "print(columns)\n",
    "\n",
    "# Print query results\n",
    "for result in results:\n",
    "    print(result)"
   ],
   "outputs": [],
   "metadata": {}
  },
  {
   "cell_type": "markdown",
   "source": [
    "## Task 2: \n",
    "\n",
    "Little lemon wants to send a coupon to all guests who spent more than $40 at the restaurant today.  \n",
    "\n",
    "Help little lemon to filter and sort the records of all quests who qualify for coupon.   \n",
    "\n",
    "\n",
    "**TIP:** Target the `BookingID` and `BillAmount` columns in the `Orders` table. Sort the data based on `BillAmount` in `DESC`. \n",
    "\n",
    "Use a fetch module on the cursor or set the limit in your SQL query. "
   ],
   "metadata": {}
  },
  {
   "cell_type": "code",
   "execution_count": null,
   "source": [
    "# Task 2 option 1\n",
    "# Resetting cursor\n",
    "#cursor.fetchall()\n",
    "\n",
    "# The SQL query is:\n",
    "filtering_and_sorting = \"\"\"SELECT BookingID, BillAmount\n",
    "FROM\n",
    "Orders ORDER BY BillAmount DESC;\"\"\"\n",
    "\n",
    "# Execute query\n",
    "cursor.execute(filtering_and_sorting)\n",
    "\n",
    "# Fetch records \n",
    "results = cursor.fetchmany(size=2)#fetchall()\n",
    "\n",
    "# Retrieve column names\n",
    "columns = cursor.column_names\n",
    "\n",
    "# Print column names\n",
    "print(columns)\n",
    "\n",
    "# Print query results\n",
    "for result in results:\n",
    "    print(result)"
   ],
   "outputs": [],
   "metadata": {}
  },
  {
   "cell_type": "code",
   "execution_count": null,
   "source": [
    "# Resetting cursor\n",
    "cursor.fetchall()\n",
    "\n",
    "# Task 2 Option 2\n",
    "\n",
    "# The SQL query is:\n",
    "filtering_and_sorting = \"\"\"SELECT BookingID, BillAmount\n",
    "FROM\n",
    "Orders ORDER BY BillAmount DESC LIMIT 2;\"\"\"\n",
    "\n",
    "# Execute query\n",
    "cursor.execute(filtering_and_sorting)\n",
    "\n",
    "# Fetch records \n",
    "results = cursor.fetchall()\n",
    "\n",
    "# Retrieve column names\n",
    "columns = cursor.column_names\n",
    "\n",
    "# Print column names\n",
    "print(columns)\n",
    "\n",
    "# Print query results\n",
    "for result in results:\n",
    "    print(result)"
   ],
   "outputs": [],
   "metadata": {}
  },
  {
   "cell_type": "markdown",
   "source": [
    "## Task 3: \n",
    "\n",
    "Little lemon needs to determine what the most and least expensive starters and desserts on their menu items are. \n",
    "\n",
    "Help them out by filtering the menu items and sorting them by price using python.  \n",
    "\n",
    "**TIP:** Filter the records based on the `Type` column in the `MenuItems` table. Sort the records by `Price` column in `DESC` order. "
   ],
   "metadata": {}
  },
  {
   "cell_type": "code",
   "execution_count": null,
   "source": [
    "# Task 3\n",
    "\n",
    "# The SQL query is:\n",
    "filtering_and_sorting = \"\"\"SELECT * \n",
    "FROM MenuItems \n",
    "WHERE (Type = 'Starters' OR Type = 'Desserts')\n",
    "ORDER BY Price ASC;\"\"\"\n",
    "\n",
    "# Execute query\n",
    "cursor.execute(filtering_and_sorting)\n",
    "\n",
    "# Fetch records \n",
    "results = cursor.fetchall()\n",
    "\n",
    "# Retrieve column names\n",
    "columns = cursor.column_names\n",
    "\n",
    "# Print column names\n",
    "print(columns)\n",
    "\n",
    "# Print query results\n",
    "for result in results:\n",
    "    print(result)"
   ],
   "outputs": [],
   "metadata": {}
  },
  {
   "cell_type": "code",
   "execution_count": null,
   "source": [
    "# Let's close the cursor and the connection\n",
    "if connection.is_connected():\n",
    "    cursor.close()\n",
    "    print(\"The cursor is closed.\")\n",
    "    connection.close()\n",
    "    print(\"MySQL connection is closed.\")\n",
    "else:\n",
    "    print(\"Connection is already closed\")"
   ],
   "outputs": [],
   "metadata": {}
  }
 ],
 "metadata": {
  "kernelspec": {
   "name": "python3",
   "display_name": "Python 3.8.10 64-bit"
  },
  "language_info": {
   "codemirror_mode": {
    "name": "ipython",
    "version": 3
   },
   "file_extension": ".py",
   "mimetype": "text/x-python",
   "name": "python",
   "nbconvert_exporter": "python",
   "pygments_lexer": "ipython3",
   "version": "3.8.10"
  },
  "interpreter": {
   "hash": "31f2aee4e71d21fbe5cf8b01ff0e069b9275f58929596ceb00d14d90e3e16cd6"
  }
 },
 "nbformat": 4,
 "nbformat_minor": 4
}