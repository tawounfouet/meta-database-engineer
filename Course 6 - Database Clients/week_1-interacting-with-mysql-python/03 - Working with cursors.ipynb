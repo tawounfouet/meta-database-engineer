{
 "cells": [
  {
   "cell_type": "markdown",
   "metadata": {},
   "source": [
    "## C6M1L3 Item 04 - Working with cursors"
   ]
  },
  {
   "cell_type": "markdown",
   "metadata": {},
   "source": [
    "## Prerequisites: \n",
    "\n",
    "To complete this lab, you must have access to the `little_lemon` database. As an authorized user, you need to establish a connection between Python and the database via the MySQL Connector/Python API using the following code: "
   ]
  },
  {
   "cell_type": "code",
   "execution_count": 48,
   "metadata": {},
   "outputs": [],
   "source": [
    "# Import MySQL Connector/Python\n",
    "import mysql.connector as connector"
   ]
  },
  {
   "cell_type": "code",
   "execution_count": 49,
   "metadata": {},
   "outputs": [],
   "source": [
    "# Establish connection between Python and MySQL database via connector API\n",
    "connection=connector.connect(\n",
    "                             user=\"admin-meta\",\n",
    "                             password=\"admin\",\n",
    "                            )"
   ]
  },
  {
   "cell_type": "markdown",
   "metadata": {},
   "source": [
    "## Scenario: \n",
    "\n",
    "Little Lemon needs to perform some basic tasks on its databases such as setting up the database and checking the names of the tables in the database. For this purpose, they have established a connection with the MySQL database using Python. In order to perform a task they need to communicate with the database. \n",
    "\n",
    "You are tasked to help Little Lemon set up their database in use and confirm the existence of tables to perform tasks. This needs to happen according to their requirements in their Python-based application. "
   ]
  },
  {
   "cell_type": "markdown",
   "metadata": {},
   "source": [
    "## Task 1\n",
    "\n",
    "Little Lemon is restructuring its database and they are interested to know what existing tables are in the database. You need to help them retrieve the names of all the existing tables in their database. \n",
    "\n",
    "To access the names of the existing tables in the Little Lemon database, set the database `little_lemon` in use. Then, create a cursor object and execute `SHOW TABLES` to retrieve the names of the tables in the database. Fetch all the names in a variable and use the `for` loop to print the output.    \n",
    "\n",
    "**TIP:** Create the standard “cursor” object with the default set of arguments. This is done by invoking the cursor module on the connection that works with the MySQL database using Python. "
   ]
  },
  {
   "cell_type": "code",
   "execution_count": 50,
   "metadata": {},
   "outputs": [],
   "source": [
    "# Create a cursor object\n",
    "cursor = connection.cursor()"
   ]
  },
  {
   "cell_type": "code",
   "execution_count": 51,
   "metadata": {},
   "outputs": [
    {
     "data": {
      "text/plain": [
       "mysql.connector.cursor.MySQLCursor"
      ]
     },
     "execution_count": 51,
     "metadata": {},
     "output_type": "execute_result"
    }
   ],
   "source": [
    "type(cursor)"
   ]
  },
  {
   "cell_type": "markdown",
   "metadata": {},
   "source": [
    "### Cursor Subclass"
   ]
  },
  {
   "cell_type": "code",
   "execution_count": null,
   "metadata": {},
   "outputs": [],
   "source": [
    "## Cursor subclass\n",
    "# - column_names\n",
    "# - rowcount\n",
    "# - cursorraw\n",
    "# - execcute()"
   ]
  },
  {
   "cell_type": "code",
   "execution_count": 52,
   "metadata": {},
   "outputs": [
    {
     "data": {
      "text/plain": [
       "()"
      ]
     },
     "execution_count": 52,
     "metadata": {},
     "output_type": "execute_result"
    }
   ],
   "source": [
    "cursor.column_names"
   ]
  },
  {
   "cell_type": "code",
   "execution_count": 53,
   "metadata": {},
   "outputs": [
    {
     "data": {
      "text/plain": [
       "-1"
      ]
     },
     "execution_count": 53,
     "metadata": {},
     "output_type": "execute_result"
    }
   ],
   "source": [
    "cursor.rowcount"
   ]
  },
  {
   "cell_type": "code",
   "execution_count": 54,
   "metadata": {},
   "outputs": [
    {
     "name": "stdout",
     "output_type": "stream",
     "text": [
      "The database in use is:  little_lemon\n"
     ]
    }
   ],
   "source": [
    "# Set the “little_lemon” database for use\n",
    "cursor.execute(\"\"\"USE little_lemon\"\"\")\n",
    "print(\"The database in use is: \", connection.database)"
   ]
  },
  {
   "cell_type": "code",
   "execution_count": 55,
   "metadata": {},
   "outputs": [],
   "source": [
    "# Get the names of all the tables using SQL query\n",
    "cursor.execute(\"\"\"SHOW TABLES;\"\"\")"
   ]
  },
  {
   "cell_type": "code",
   "execution_count": 56,
   "metadata": {},
   "outputs": [],
   "source": [
    "# Retrieve query results in a variable ‘results’\n",
    "results = cursor.fetchall()"
   ]
  },
  {
   "cell_type": "code",
   "execution_count": 57,
   "metadata": {},
   "outputs": [
    {
     "name": "stdout",
     "output_type": "stream",
     "text": [
      "('Bookings',)\n",
      "('MenuItems',)\n",
      "('Menus',)\n",
      "('Orders',)\n"
     ]
    }
   ],
   "source": [
    "# Use for loop to print the names of all the tables \n",
    "for table in results:\n",
    "    print(table)"
   ]
  },
  {
   "cell_type": "code",
   "execution_count": 58,
   "metadata": {},
   "outputs": [
    {
     "data": {
      "text/plain": [
       "4"
      ]
     },
     "execution_count": 58,
     "metadata": {},
     "output_type": "execute_result"
    }
   ],
   "source": [
    "cursor.rowcount"
   ]
  },
  {
   "cell_type": "code",
   "execution_count": 59,
   "metadata": {},
   "outputs": [
    {
     "data": {
      "text/plain": [
       "('Tables_in_little_lemon',)"
      ]
     },
     "execution_count": 59,
     "metadata": {},
     "output_type": "execute_result"
    }
   ],
   "source": [
    "cursor.column_names"
   ]
  },
  {
   "cell_type": "markdown",
   "metadata": {},
   "source": [
    "#### Cursor subclasses syntax"
   ]
  },
  {
   "cell_type": "code",
   "execution_count": 47,
   "metadata": {},
   "outputs": [],
   "source": [
    "#cursor.cursorraw ? \n",
    "    ## - raw_cursor = connection.cursor(raw = True)\n",
    "\n",
    "# buffered \n",
    "    ## - buffered_cursor = connection.cursor(buffered = True)\n",
    "\n",
    "# cursor.cursordict ?\n",
    "    ## - buffered_cursor = connection.cursor(dictionnary = True)"
   ]
  },
  {
   "cell_type": "markdown",
   "metadata": {},
   "source": [
    "## Task 2\n",
    "\n",
    "Creating the cursor is an important step to communicate with the entire MySQL database using Python.  \n",
    "\n",
    "You have learned about the different approaches to creating cursors and it depends on your application which approaches you will follow for resource optimization.  \n",
    "\n",
    "Run a test between the standard and the buffered cursor to check what type of cursor will work for the situation given below: \n",
    "\n",
    "* Create a cursor \n",
    "* Execute `USE little_lemon` \n",
    "* Execute `SELECT * FROM Bookings` \n",
    "* Execute `SELECT * FROM Orders` "
   ]
  },
  {
   "cell_type": "markdown",
   "metadata": {},
   "source": [
    "### Standard "
   ]
  },
  {
   "cell_type": "code",
   "execution_count": null,
   "metadata": {},
   "outputs": [],
   "source": [
    "# Establish connection between Python and MySQL database via connector API\n",
    "connection=connector.connect(\n",
    "                             user=\"admin-meta\",\n",
    "                             password=\"admin\",\n",
    "                            )\n",
    "\n",
    "# Create a cursor object\n",
    "cursor = connection.cursor()\n",
    "\n",
    "# Set the “little_lemon” database for use\n",
    "cursor.execute(\"\"\"USE little_lemon;\"\"\")\n",
    "print(\"The little_lemon database is set for use.\")\n",
    "\n",
    "# Retrieve records from bookings\n",
    "cursor.execute(\"\"\"SELECT * FROM Bookings;\"\"\")\n",
    "print(\"All records from Bookings table are retrieved.\")\n",
    "\n",
    "# Retrieve records from orders\n",
    "cursor.execute(\"\"\"SELECT * FROM Orders;\"\"\")\n",
    "print(\"All records from Orders table are retrieved.\")"
   ]
  },
  {
   "cell_type": "markdown",
   "metadata": {},
   "source": [
    "**Refactor code**"
   ]
  },
  {
   "cell_type": "code",
   "execution_count": 61,
   "metadata": {},
   "outputs": [
    {
     "name": "stdout",
     "output_type": "stream",
     "text": [
      "Error: 1046 (3D000): No database selected\n"
     ]
    }
   ],
   "source": [
    "#import mysql.connector\n",
    "import mysql.connector as connector\n",
    "\n",
    "try:\n",
    "    # Establish connection\n",
    "    connection = connector.connect(\n",
    "        #host='your_host',\n",
    "        user='admin-meta',\n",
    "        password='admin',\n",
    "        #database='your_database'\n",
    "    )\n",
    "\n",
    "    # Create cursor\n",
    "    cursor = connection.cursor()\n",
    "\n",
    "    # Execute query on Bookings table\n",
    "    cursor.execute(\"\"\"SELECT * FROM Bookings;\"\"\")\n",
    "    print(\"All records from Bookings table are retrieved.\")\n",
    "\n",
    "    # Read and consume the result set\n",
    "    bookings_records = cursor.fetchall()\n",
    "\n",
    "    # Execute query on Orders table\n",
    "    cursor.execute(\"\"\"SELECT * FROM Orders;\"\"\")\n",
    "    print(\"All records from Orders table are retrieved.\")\n",
    "\n",
    "    # Read and consume the result set\n",
    "    orders_records = cursor.fetchall()\n",
    "\n",
    "except connector.Error as error:\n",
    "    print(\"Error:\", error)\n",
    "\n",
    "finally:\n",
    "    # Close cursor and connection\n",
    "    if 'cursor' in locals():\n",
    "        cursor.close()\n",
    "    if 'connection' in locals():\n",
    "        connection.close()"
   ]
  },
  {
   "cell_type": "markdown",
   "metadata": {},
   "source": [
    "### Buffered "
   ]
  },
  {
   "cell_type": "code",
   "execution_count": 66,
   "metadata": {},
   "outputs": [
    {
     "name": "stdout",
     "output_type": "stream",
     "text": [
      "The little_lemon database is set for use.\n",
      "All records from Bookings table are retrieved.\n",
      "All records from Orders table are retrieved.\n"
     ]
    }
   ],
   "source": [
    "# Establish connection between Python and MySQL database via connector API\n",
    "connection=connector.connect(\n",
    "                             user=\"admin-meta\",\n",
    "                             password=\"admin\",\n",
    "                            )\n",
    "\n",
    "# Create a cursor object\n",
    "cursor = connection.cursor(buffered = True)\n",
    "\n",
    "# Set the “little_lemon” database for use\n",
    "cursor.execute(\"\"\"USE little_lemon;\"\"\")\n",
    "print(\"The little_lemon database is set for use.\")\n",
    "\n",
    "# Retrieve records from bookings\n",
    "cursor.execute(\"\"\"SELECT * FROM Bookings;\"\"\")\n",
    "print(\"All records from Bookings table are retrieved.\")\n",
    "\n",
    "# Retrieve records from orders\n",
    "cursor.execute(\"\"\"SELECT * FROM Orders;\"\"\")\n",
    "print(\"All records from Orders table are retrieved.\")"
   ]
  },
  {
   "cell_type": "markdown",
   "metadata": {},
   "source": [
    "## Task 3\n",
    "\n",
    "Little Lemon will have multiple databases soon. They need to plan for a scalable solution.  This information can be tracked in a Python dictionary. A dictionary cursor will be helpful as it returns a dictionary object.  \n",
    "\n",
    "Create a cursor with argument `[dictionary = True]` and retrieve the names of all the tables in the form of a dictionary object where the name of the tables is a value, and the database name is a key.  \n",
    "\n",
    "**TIP:** Explore the arguments that you can pass to the cursor module. "
   ]
  },
  {
   "cell_type": "code",
   "execution_count": 68,
   "metadata": {},
   "outputs": [],
   "source": [
    "# Create a cursor object with dictionary=True\n",
    "dic_cursor=connection.cursor(dictionary=True)"
   ]
  },
  {
   "cell_type": "code",
   "execution_count": 70,
   "metadata": {},
   "outputs": [
    {
     "data": {
      "text/plain": [
       "mysql.connector.cursor.MySQLCursorBuffered"
      ]
     },
     "execution_count": 70,
     "metadata": {},
     "output_type": "execute_result"
    }
   ],
   "source": [
    "type(cursor)"
   ]
  },
  {
   "cell_type": "code",
   "execution_count": 71,
   "metadata": {},
   "outputs": [
    {
     "name": "stdout",
     "output_type": "stream",
     "text": [
      "{'Tables_in_little_lemon': 'Bookings'}\n",
      "{'Tables_in_little_lemon': 'MenuItems'}\n",
      "{'Tables_in_little_lemon': 'Menus'}\n",
      "{'Tables_in_little_lemon': 'Orders'}\n"
     ]
    }
   ],
   "source": [
    "# Set database in use\n",
    "dic_cursor.execute(\"use little_lemon\")\n",
    "\n",
    "# Execute SQL query to get the name of the tables\n",
    "dic_cursor.execute(\"show tables;\")\n",
    "\n",
    "# Retrieve query results in a variable ‘results’\n",
    "results = dic_cursor.fetchall()\n",
    "\n",
    "# Use for loop to print the names of all the tables \n",
    "for table in results:\n",
    "    print(table)"
   ]
  },
  {
   "cell_type": "code",
   "execution_count": 72,
   "metadata": {},
   "outputs": [
    {
     "name": "stdout",
     "output_type": "stream",
     "text": [
      "The cursor is closed.\n",
      "MySQL connection is closed.\n"
     ]
    }
   ],
   "source": [
    "# Let's close the cursor and the connection\n",
    "if connection.is_connected():\n",
    "    cursor.close()\n",
    "    print(\"The cursor is closed.\")\n",
    "    connection.close()\n",
    "    print(\"MySQL connection is closed.\")\n",
    "else:\n",
    "    print(\"Connection is already closed\")"
   ]
  },
  {
   "cell_type": "code",
   "execution_count": null,
   "metadata": {},
   "outputs": [],
   "source": []
  }
 ],
 "metadata": {
  "kernelspec": {
   "display_name": "Python 3 (ipykernel)",
   "language": "python",
   "name": "python3"
  },
  "language_info": {
   "codemirror_mode": {
    "name": "ipython",
    "version": 3
   },
   "file_extension": ".py",
   "mimetype": "text/x-python",
   "name": "python",
   "nbconvert_exporter": "python",
   "pygments_lexer": "ipython3",
   "version": "3.8.0"
  }
 },
 "nbformat": 4,
 "nbformat_minor": 4
}
