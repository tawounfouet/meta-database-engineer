{
 "cells": [
  {
   "cell_type": "markdown",
   "source": [
    "## C6M1L2 Item 11 - Create Your Table Structure"
   ],
   "metadata": {}
  },
  {
   "cell_type": "markdown",
   "source": [
    "## Prerequisites \n",
    "\n",
    "To complete this exercise, you must have access to the MySQL database. As an authorized user, you need to establish a connection between Python and MySQL via the connector API and create a “cursor” object using the following code: "
   ],
   "metadata": {}
  },
  {
   "cell_type": "code",
   "execution_count": null,
   "source": [
    "!pip install mysql-connector-python"
   ],
   "outputs": [],
   "metadata": {}
  },
  {
   "cell_type": "code",
   "execution_count": null,
   "source": [
    "import mysql.connector as connector"
   ],
   "outputs": [],
   "metadata": {}
  },
  {
   "cell_type": "code",
   "execution_count": null,
   "source": [
    "# Establish connection between Python and MySQL database via connector API\n",
    "connection=connector.connect(\n",
    "                             user=\"root\", # use your own\n",
    "                             password=\"abcdef\", # use your own\n",
    "                            )"
   ],
   "outputs": [],
   "metadata": {}
  },
  {
   "cell_type": "markdown",
   "source": [
    "Once the connection is established and you have a cursor object, you can carry out the required tasks. "
   ],
   "metadata": {}
  },
  {
   "cell_type": "code",
   "execution_count": null,
   "source": [
    "# Create a cursor object to communicate with entire MySQL database\n",
    "cursor = connection.cursor()"
   ],
   "outputs": [],
   "metadata": {}
  },
  {
   "cell_type": "markdown",
   "source": [
    "## Scenario \n",
    "\n",
    "Little Lemon needs a Python-based application in which they can organize their data within different tables in a MySQL database.  \n",
    "\n",
    "First, they need to create their database. Then they need to create the database’s tables.  \n",
    "\n",
    "The list of tables they need to create are as follows: \n",
    "\n",
    "* A table called Menu that stores menu data \n",
    "* A table called MenuItems that stores data on menu items \n",
    "* A table called Orders that stores data on customer orders \n",
    "* And a table called Bookings that stores data on customer bookings \n",
    "\n",
    "Complete the tasks that follow to help Little Lemon create the database and the tables. "
   ],
   "metadata": {}
  },
  {
   "cell_type": "markdown",
   "source": [
    "## Task 1:\n",
    "Little Lemon need to create a database that can hold their tables. Create a MySQL database for Little Lemon using Python. You can call the database “little_lemon”. \n",
    "You also need to confirm that the database has been successfully created by executing the `“SHOW DATABASE”` query. \n",
    "\n",
    "**Tip:** If a database with the same name already exists, then you’ll receive an error confirming its existence. Otherwise, your code will be executed with no output. "
   ],
   "metadata": {}
  },
  {
   "cell_type": "code",
   "execution_count": null,
   "source": [
    "# If exist, drop the database first \n",
    "cursor.execute(\"drop database little_lemon\")\n",
    "\n",
    "# Create database and checking all that we have!\n",
    "\n",
    "cursor.execute(\"CREATE DATABASE little_lemon\")\n",
    "cursor.execute(\"SHOW DATABASES\")\n",
    "for database in cursor:\n",
    "    print(database)"
   ],
   "outputs": [],
   "metadata": {}
  },
  {
   "cell_type": "markdown",
   "source": [
    "## Task 2:\n",
    "Set the newly created database `“little_lemon”` for use. Confirm that the database is available for use by using `connection.database`. \n",
    "\n",
    "**Tip:** If the `“little_lemon”` database already exists, then the code in your jupyter notebook cell should execute without any error."
   ],
   "metadata": {}
  },
  {
   "cell_type": "code",
   "execution_count": null,
   "source": [
    "# Set little_lemon database for use \n",
    "cursor.execute(\"USE little_lemon\")\n",
    "\n",
    "# Confirm the database in use\n",
    "connection.database"
   ],
   "outputs": [],
   "metadata": {}
  },
  {
   "cell_type": "code",
   "execution_count": null,
   "source": [
    "cursor.execute(\"SHOW DATABASES\")\n",
    "for database in cursor:\n",
    "    print(database)"
   ],
   "outputs": [],
   "metadata": {}
  },
  {
   "cell_type": "markdown",
   "source": [
    "## Creating tables "
   ],
   "metadata": {}
  },
  {
   "cell_type": "markdown",
   "source": [
    "## Task 3:\n",
    "\n",
    "Create a `“MenuItems”` table using the following SQL query as a Python string:\n",
    "```Python\n",
    "create_menuitem_table = \"\"\"CREATE TABLE MenuItems (\n",
    "ItemID INT AUTO_INCREMENT,\n",
    "Name VARCHAR(200),\n",
    "Type VARCHAR(100),\n",
    "Price INT,\n",
    "PRIMARY KEY (ItemID)\n",
    ");\"\"\"\n",
    "```\n",
    "Once you have executed the query, use the `“SHOW TABLES”` command to confirm that the table has been created.\n",
    "\n",
    "**Tip:** The code will run in the jupyter notebook with no error if your SQL query is correct, and the table does not exist. "
   ],
   "metadata": {}
  },
  {
   "cell_type": "code",
   "execution_count": null,
   "source": [
    "# The SQL query for MenuItems table is: \n",
    "create_menuitem_table=\"\"\"\n",
    "CREATE TABLE MenuItems (\n",
    "ItemID INT AUTO_INCREMENT,\n",
    "Name VARCHAR(200),\n",
    "Type VARCHAR(100),\n",
    "Price INT,\n",
    "PRIMARY KEY (ItemID)\n",
    ");\"\"\"\n",
    "\n",
    "# Create MenuItems table\n",
    "cursor.execute(create_menuitem_table)\n",
    "\n",
    "# Confirm if the table is created\n",
    "cursor.execute(\"SHOW TABLES\")\n",
    "for table in cursor:\n",
    "    print(table)"
   ],
   "outputs": [],
   "metadata": {}
  },
  {
   "cell_type": "markdown",
   "source": [
    "## Task 4: \n",
    "\n",
    "Create the `“Menus”` table to store data on menus using the following SQL query as a Python string.\n",
    "```Python\n",
    "create_menu_table = \"\"\"CREATE TABLE Menus (\n",
    "MenuID INT,\n",
    "ItemID INT,\n",
    "Cuisine VARCHAR(100),\n",
    "PRIMARY KEY (MenuID,ItemID)\n",
    ");\"\"\"\n",
    "```\n",
    "Once you have executed the query, use the `SHOW TABLES` command to confirm that the table has been created. \n",
    "\n",
    "**Tip:** The code will run in the jupyter notebook with no error if your SQL query is correct, and the table does not exist. "
   ],
   "metadata": {}
  },
  {
   "cell_type": "code",
   "execution_count": null,
   "source": [
    "# The SQL query for Menu table is:\n",
    "create_menu_table=\"\"\"\n",
    "CREATE TABLE Menus (\n",
    "MenuID INT,\n",
    "ItemID INT,\n",
    "Cuisine VARCHAR(100),\n",
    "PRIMARY KEY (MenuID,ItemID)\n",
    ");\"\"\"\n",
    "\n",
    "# Create Menu table\n",
    "cursor.execute(create_menu_table)\n",
    "\n",
    "# Confirm if the table is created\n",
    "cursor.execute(\"SHOW TABLES\")\n",
    "for table in cursor:\n",
    "    print(table)"
   ],
   "outputs": [],
   "metadata": {}
  },
  {
   "cell_type": "markdown",
   "source": [
    "## Task 5: \n",
    "\n",
    "Create the “Bookings” table to store data on customer bookings using the following SQL query as a Python string:\n",
    "\n",
    "```Python\n",
    "Create_booking_table = \"\"\"CREATE TABLE Bookings (\n",
    "BookingID INT AUTO_INCREMENT,\n",
    "TableNo INT,\n",
    "GuestFirstName VARCHAR(100) NOT NULL,\n",
    "GuestLastName VARCHAR(100) NOT NULL,\n",
    "BookingSlot TIME NOT NULL,\n",
    "EmployeeID INT,\n",
    "PRIMARY KEY (BookingID)\n",
    ");\"\"\"\n",
    "```\n",
    "Once you have executed the query, use the `“SHOW TABLES”` command to confirm that the table has been created.\n",
    "\n",
    "**Tip:** The code will run in the jupyter notebook with no error if your SQL query is correct, and the table does not exist. "
   ],
   "metadata": {}
  },
  {
   "cell_type": "code",
   "execution_count": null,
   "source": [
    "# The SQL query for Bookings table is:\n",
    "create_booking_table=\"\"\"\n",
    "CREATE TABLE Bookings (\n",
    "BookingID INT AUTO_INCREMENT,\n",
    "TableNo INT,\n",
    "GuestFirstName VARCHAR(100) NOT NULL,\n",
    "GuestLastName VARCHAR(100) NOT NULL,\n",
    "BookingSlot TIME NOT NULL,\n",
    "EmployeeID INT,\n",
    "PRIMARY KEY (BookingID)\n",
    ");\"\"\"\n",
    "\n",
    "# Create Bookings table\n",
    "cursor.execute(create_booking_table)\n",
    "\n",
    "# Confirm if the table is created\n",
    "cursor.execute(\"SHOW TABLES\")\n",
    "for table in cursor:\n",
    "    print(table)"
   ],
   "outputs": [],
   "metadata": {}
  },
  {
   "cell_type": "markdown",
   "source": [
    "## Task 6: \n",
    "\n",
    "Create an “Orders” table to store data on customer orders using the following SQL query as a Python string:\n",
    "```Python\n",
    "create_orders_table = \"\"\"CREATE TABLE Orders (\n",
    "OrderID INT,\n",
    "TableNo INT,\n",
    "MenuID INT,\n",
    "BookingID INT,\n",
    "BillAmount INT,\n",
    "Quantity INT,\n",
    "PRIMARY KEY (OrderID,TableNo)\n",
    ");\"\"\"\n",
    "```\n",
    "\n",
    "Once you have executed the code, use the SHOW TABLES command to confirm that the table has been created. \n",
    "\n",
    "**Tip:** The code will run in the jupyter notebook with no error if your sql query is correct, and the table does not exist"
   ],
   "metadata": {}
  },
  {
   "cell_type": "code",
   "execution_count": null,
   "source": [
    "# The SQL query for Bookings table is:\n",
    "create_orders_table=\"\"\"\n",
    "CREATE TABLE Orders (\n",
    "OrderID INT,\n",
    "TableNo INT,\n",
    "MenuID INT,\n",
    "BookingID INT,\n",
    "BillAmount INT,\n",
    "Quantity INT,\n",
    "PRIMARY KEY (OrderID,TableNo)\n",
    ");\"\"\"\n",
    "\n",
    "# Create Orders table\n",
    "cursor.execute(create_orders_table)\n",
    "\n",
    "# Confirm if the table is created\n",
    "cursor.execute(\"SHOW TABLES\")\n",
    "for table in cursor:\n",
    "    print(table)"
   ],
   "outputs": [],
   "metadata": {}
  },
  {
   "cell_type": "code",
   "execution_count": null,
   "source": [
    "# Let's close the cursor and the connection\n",
    "if connection.is_connected():\n",
    "    cursor.close()\n",
    "    print(\"The cursor is closed.\")\n",
    "    connection.close()\n",
    "    print(\"MySQL connection is closed.\")\n",
    "else:\n",
    "    print(\"Connection is already closed\")"
   ],
   "outputs": [],
   "metadata": {}
  }
 ],
 "metadata": {
  "kernelspec": {
   "name": "python3",
   "display_name": "Python 3.8.10 64-bit"
  },
  "language_info": {
   "codemirror_mode": {
    "name": "ipython",
    "version": 3
   },
   "file_extension": ".py",
   "mimetype": "text/x-python",
   "name": "python",
   "nbconvert_exporter": "python",
   "pygments_lexer": "ipython3",
   "version": "3.8.10"
  },
  "interpreter": {
   "hash": "31f2aee4e71d21fbe5cf8b01ff0e069b9275f58929596ceb00d14d90e3e16cd6"
  }
 },
 "nbformat": 4,
 "nbformat_minor": 4
}