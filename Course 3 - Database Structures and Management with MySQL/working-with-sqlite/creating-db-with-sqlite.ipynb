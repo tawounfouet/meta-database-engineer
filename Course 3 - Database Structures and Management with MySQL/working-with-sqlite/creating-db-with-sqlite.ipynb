{
 "cells": [
  {
   "cell_type": "code",
   "execution_count": null,
   "id": "da1cb005-844b-4e06-a3bb-0c4377e38b84",
   "metadata": {},
   "outputs": [],
   "source": []
  },
  {
   "cell_type": "code",
   "execution_count": 1,
   "id": "3f8b8131-a643-4f0c-81e5-f09ad19b3aa8",
   "metadata": {},
   "outputs": [],
   "source": [
    "import pandas as pd\n",
    "\n",
    "#import sqlite3\n",
    "import sqlite3 as sq3\n",
    "from sqlite3 import Connection\n",
    "\n",
    "import sqlalchemy.pool as pool"
   ]
  },
  {
   "cell_type": "code",
   "execution_count": 2,
   "id": "2ea1b0b0-ffb9-43d2-8e8a-797a7404d293",
   "metadata": {},
   "outputs": [],
   "source": [
    "con = sq3.connect(\"mybd.db\") # create db"
   ]
  },
  {
   "cell_type": "code",
   "execution_count": 3,
   "id": "59af72a1-7cba-4308-8fbc-7bc6b3eb96ea",
   "metadata": {},
   "outputs": [
    {
     "data": {
      "text/plain": [
       "<sqlite3.Connection at 0x7f79d11806c0>"
      ]
     },
     "execution_count": 3,
     "metadata": {},
     "output_type": "execute_result"
    }
   ],
   "source": [
    "con"
   ]
  },
  {
   "cell_type": "code",
   "execution_count": 4,
   "id": "ccd610cd-6805-44d9-8071-798407b2706a",
   "metadata": {},
   "outputs": [
    {
     "data": {
      "text/plain": [
       "[]"
      ]
     },
     "execution_count": 4,
     "metadata": {},
     "output_type": "execute_result"
    }
   ],
   "source": [
    "con.execute(\"Select * FROM sqlite_master\").fetchall()"
   ]
  },
  {
   "cell_type": "code",
   "execution_count": null,
   "id": "7655fede-c9dd-4d9e-89da-b30278d50ad6",
   "metadata": {},
   "outputs": [],
   "source": [
    "#MenuItems table\n",
    "create_menuitem_table = \"\"\"CREATE TABLE MenuItems (\n",
    "ItemID INT AUTO_INCREMENT,\n",
    "Name VARCHAR(200),\n",
    "Type VARCHAR(100),\n",
    "Price INT,\n",
    "PRIMARY KEY (ItemID)\n",
    ");\"\""
   ]
  }
 ],
 "metadata": {
  "kernelspec": {
   "display_name": "Python 3 (ipykernel)",
   "language": "python",
   "name": "python3"
  },
  "language_info": {
   "codemirror_mode": {
    "name": "ipython",
    "version": 3
   },
   "file_extension": ".py",
   "mimetype": "text/x-python",
   "name": "python",
   "nbconvert_exporter": "python",
   "pygments_lexer": "ipython3",
   "version": "3.8.0"
  }
 },
 "nbformat": 4,
 "nbformat_minor": 5
}
